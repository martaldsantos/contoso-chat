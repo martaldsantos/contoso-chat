{
 "cells": [
  {
   "cell_type": "markdown",
   "metadata": {},
   "source": [
    "# Local Evaluation - Groundedness\n",
    "\n",
    "After you have setup and configured the prompt flow, its time to evaluation its performance. Here we can use the prompt flow SDK to test different questions and see how the prompt flow performs using the evaluation prompt flows provided."
   ]
  },
  {
   "cell_type": "code",
   "execution_count": 41,
   "metadata": {},
   "outputs": [],
   "source": [
    "from promptflow import tool\n",
    "from promptflow.connections import CustomConnection\n",
    "\n",
    "@tool\n",
    "def my_python_tool(message: str, myconn: CustomConnection) -> str:\n",
    "    # Get authentication key-values from the custom connection\n",
    "    connection_key1_value = myconn.key1\n",
    "    connection_key2_value = myconn.key2"
   ]
  },
  {
   "cell_type": "code",
   "execution_count": 42,
   "metadata": {},
   "outputs": [
    {
     "data": {
      "text/plain": [
       "True"
      ]
     },
     "execution_count": 42,
     "metadata": {},
     "output_type": "execute_result"
    }
   ],
   "source": [
    "from promptflow.client import PFClient\n",
    "\n",
    "pf_client = PFClient()\n",
    "\n",
    "from dotenv import load_dotenv\n",
    "\n",
    "load_dotenv()"
   ]
  },
  {
   "cell_type": "code",
   "execution_count": 43,
   "metadata": {},
   "outputs": [
    {
     "name": "stderr",
     "output_type": "stream",
     "text": [
      "[2024-04-13 13:08:08,857][promptflow.core._connection][WARNING] - Please use connection.secrets[key] to access secrets.\n"
     ]
    },
    {
     "name": "stdout",
     "output_type": "stream",
     "text": [
      "2024-04-13 13:08:09 +0000   44179 execution.flow     INFO     Start executing nodes in thread pool mode.\n",
      "2024-04-13 13:08:09 +0000   44179 execution.flow     INFO     Start to run 5 nodes with concurrency level 16.\n",
      "2024-04-13 13:08:09 +0000   44179 execution.flow     INFO     Executing node question_embedding. node run id: b8cbe6ca-d88d-4935-a8bc-dcb25f66a60e_question_embedding_0\n",
      "2024-04-13 13:08:09 +0000   44179 execution.flow     INFO     Executing node customer_lookup. node run id: b8cbe6ca-d88d-4935-a8bc-dcb25f66a60e_customer_lookup_0\n",
      "2024-04-13 13:08:09 +0000   44179 execution.flow     INFO     Node question_embedding completes.\n",
      "2024-04-13 13:08:09 +0000   44179 execution.flow     INFO     Executing node retrieve_documentation. node run id: b8cbe6ca-d88d-4935-a8bc-dcb25f66a60e_retrieve_documentation_0\n",
      "2024-04-13 13:08:09 +0000   44179 execution.flow     INFO     Node customer_lookup completes.\n",
      "2024-04-13 13:08:10 +0000   44179 execution.flow     INFO     Node retrieve_documentation completes.\n",
      "2024-04-13 13:08:10 +0000   44179 execution.flow     INFO     Executing node customer_prompt. node run id: b8cbe6ca-d88d-4935-a8bc-dcb25f66a60e_customer_prompt_0\n",
      "2024-04-13 13:08:10 +0000   44179 execution.flow     INFO     Node customer_prompt completes.\n",
      "2024-04-13 13:08:10 +0000   44179 execution.flow     INFO     Executing node llm_response. node run id: b8cbe6ca-d88d-4935-a8bc-dcb25f66a60e_llm_response_0\n",
      "2024-04-13 13:08:10 +0000   44179 execution.flow     WARNING  Output of llm_response is not json serializable, use str to store it.\n",
      "2024-04-13 13:08:10 +0000   44179 execution.flow     INFO     Node llm_response completes.\n",
      "2024-04-13 13:08:10 +0000   44179 execution.flow     WARNING  Failed to serialize inputs or output for flow run because of cannot pickle 'generator' object.The inputs and output field in api_calls will be None.\n"
     ]
    }
   ],
   "source": [
    "from promptflow.core import tool\n",
    "# Add a question to test the base prompt flow.\n",
    "question = \"Can you tell me about your jackets?\"\n",
    "customerId = \"4\"\n",
    "output = pf_client.test(\n",
    "    flow=\"../contoso-chat\", # Path to the flow directory\n",
    "    inputs={ # Inputs to the flow\n",
    "        \"chat_history\": [],\n",
    "        \"question\": question,\n",
    "        \"customerId\": customerId,\n",
    "    },\n",
    ")\n",
    "\n",
    "output[\"answer\"] = \"\".join(list(output[\"answer\"]))"
   ]
  },
  {
   "cell_type": "code",
   "execution_count": 44,
   "metadata": {},
   "outputs": [
    {
     "data": {
      "text/plain": [
       "{'answer': \"Hey Sarah Lee! 😊👋 Let me tell you about our awesome jackets! We have two incredible options that you might love:\\n\\n1. The **Summit Breeze Jacket** (Product ID: 3) is perfect for outdoor adventures. 🌲🏞️ It's lightweight, windproof, and water-resistant, so it can handle any weather. The adjustable cuffs and breathable polyester material ensure your comfort, whether you're hiking a mountain or strolling through a park. And with reflective accents, it's great for night treks too! 🌙✨\\n\\n2. The **RainGuard Hiking Jacket** (Product ID: 17) is the ultimate solution for weatherproof comfort. 🌧️⛰️ It's designed with waterproof, breathable fabric and features adjustable hood and cuffs for a customizable fit. Plus, it has multiple pockets for convenient storage and ventilation zippers for increased airflow. Perfect for hiking, camping, and trekking! 🌈🏕️\\n\\nBoth jackets are durable, stylish, and come with packable designs for easy transportation. 🎒 So, whether you're looking for a lightweight companion or weatherproof comfort, we've got you covered! Happy exploring, Sarah Lee! 🌟🚀✨\\n\\nP.S. I noticed you previously purchased the CozyNights Sleeping Bag and the TrailBlaze Hiking Pants. Those would pair perfectly with these jackets for your next outdoor adventure! 🛌🌟👖\",\n",
       " 'context': [{'id': '3',\n",
       "   'title': 'Summit Breeze Jacket',\n",
       "   'content': \"Discover the joy of hiking with MountainStyle's Summit Breeze Jacket. This lightweight jacket is your perfect companion for outdoor adventures. Sporting a trail-ready, windproof design and a water-resistant fabric, it's ready to withstand any weather. The breathable polyester material and adjustable cuffs keep you comfortable, whether you're ascending a mountain or strolling through a park. And its sleek black color adds style to function. The jacket features a full-zip front closure, adjustable hood, and secure zippered pockets. Experience the comfort of its inner lining and the convenience of its packable design. Crafted for night trekkers too, the jacket has reflective accents for enhanced visibility. Rugged yet chic, the Summit Breeze Jacket is more than a hiking essential, it's the gear that inspires you to reach new heights. Choose adventure, choose the Summit Breeze Jacket.\",\n",
       "   'url': '/products/summit-breeze-jacket'},\n",
       "  {'id': '17',\n",
       "   'title': 'RainGuard Hiking Jacket',\n",
       "   'content': \"Introducing the MountainStyle RainGuard Hiking Jacket - the ultimate solution for weatherproof comfort during your outdoor undertakings! Designed with waterproof, breathable fabric, this jacket promises an outdoor experience that's as dry as it is comfortable. The rugged construction assures durability, while the adjustable hood provides a customizable fit against wind and rain. Featuring multiple pockets for safe, convenient storage and adjustable cuffs and hem, you can tailor the jacket to suit your needs on-the-go. And, don't worry about overheating during intense activities - it's equipped with ventilation zippers for increased airflow. Reflective details ensure visibility even during low-light conditions, making it perfect for evening treks. With its lightweight, packable design, carrying it inside your backpack requires minimal effort. With options for men and women, the RainGuard Hiking Jacket is perfect for hiking, camping, trekking and countless other outdoor adventures. Don't let the weather stand in your way - embrace the outdoors with MountainStyle RainGuard Hiking Jacket!\",\n",
       "   'url': '/products/rainguard-hiking-jacket'},\n",
       "  {'id': '4',\n",
       "   'title': 'TrekReady Hiking Boots',\n",
       "   'content': \"Introducing the TrekReady Hiking Boots - stepping up your hiking game, one footprint at a time! Crafted from leather, these stylistic Trailmates are made to last. TrekReady infuses durability with its reinforced stitching and toe protection, making sure your journey is never stopped short. Comfort? They have that covered too! The boots are a haven with their breathable materials, cushioned insole, with padded collar and tongue; all nestled neatly within their lightweight design. As they say, it's what's inside that counts - so inside you'll find a moisture-wicking lining that quarantines stank and keeps your feet fresh as that mountaintop breeze. Remember the fear of slippery surfaces? With these boots, you can finally tell it to 'take a hike'! Their shock-absorbing midsoles and excellent traction capabilities promise stability at your every step. Beautifully finished in a traditional lace-up system, every adventurer deserves a pair of TrekReady Hiking Boots. Hike more, worry less!\",\n",
       "   'url': '/products/trekready-hiking-boots'}]}"
      ]
     },
     "execution_count": 44,
     "metadata": {},
     "output_type": "execute_result"
    }
   ],
   "source": [
    "output"
   ]
  },
  {
   "cell_type": "markdown",
   "metadata": {},
   "source": [
    "Test the groundedness of the prompt flow with the answer from the above question."
   ]
  },
  {
   "cell_type": "code",
   "execution_count": 45,
   "metadata": {},
   "outputs": [
    {
     "name": "stdout",
     "output_type": "stream",
     "text": [
      "2024-04-13 13:08:14 +0000   44179 execution.flow     INFO     Start executing nodes in thread pool mode.\n",
      "2024-04-13 13:08:14 +0000   44179 execution.flow     INFO     Start to run 2 nodes with concurrency level 16.\n",
      "2024-04-13 13:08:14 +0000   44179 execution.flow     INFO     Executing node groundedness_score. node run id: c819c9ab-f7c6-4cf7-ac2b-57e9a01479b8_groundedness_score_0\n",
      "2024-04-13 13:08:15 +0000   44179 execution.flow     INFO     Node groundedness_score completes.\n",
      "2024-04-13 13:08:15 +0000   44179 execution.flow     INFO     Executing node concat_scores. node run id: c819c9ab-f7c6-4cf7-ac2b-57e9a01479b8_concat_scores_0\n",
      "2024-04-13 13:08:15 +0000   44179 execution.flow     INFO     Node concat_scores completes.\n",
      "2024-04-13 13:08:15 +0000   44179 execution.flow     INFO     Start executing nodes in thread pool mode.\n",
      "2024-04-13 13:08:15 +0000   44179 execution.flow     INFO     Start to run 1 nodes with concurrency level 16.\n",
      "2024-04-13 13:08:15 +0000   44179 execution.flow     INFO     Executing node aggregate_variants_results. node run id: c819c9ab-f7c6-4cf7-ac2b-57e9a01479b8_aggregate_variants_results_reduce\n",
      "2024-04-13 13:08:15 +0000   44179 execution.flow     INFO     Node aggregate_variants_results completes.\n"
     ]
    }
   ],
   "source": [
    "from promptflow.core import log_metric\n",
    "\n",
    "test = pf_client.test(\n",
    "    flow=\"groundedness\",\n",
    "    inputs={\n",
    "        \"question\": question,\n",
    "        \"context\": str(output[\"context\"]),\n",
    "        \"answer\": output[\"answer\"],\n",
    "    },\n",
    ")"
   ]
  },
  {
   "cell_type": "code",
   "execution_count": 46,
   "metadata": {},
   "outputs": [
    {
     "data": {
      "text/plain": [
       "{'gpt_groundedness': 5.0}"
      ]
     },
     "execution_count": 46,
     "metadata": {},
     "output_type": "execute_result"
    }
   ],
   "source": [
    "test"
   ]
  },
  {
   "cell_type": "markdown",
   "metadata": {},
   "source": [
    "# Local Evaluation - Multiple Metrics \n",
    "\n",
    "Now use the same prompt flow and test it against the Multi Evaluation flow for groundedness, coherence, fluency, and relevance."
   ]
  },
  {
   "cell_type": "code",
   "execution_count": 47,
   "metadata": {},
   "outputs": [
    {
     "name": "stdout",
     "output_type": "stream",
     "text": [
      "2024-04-13 13:08:15 +0000   44179 execution.flow     INFO     Start executing nodes in thread pool mode.\n",
      "2024-04-13 13:08:15 +0000   44179 execution.flow     INFO     Start to run 8 nodes with concurrency level 16.\n",
      "2024-04-13 13:08:15 +0000   44179 execution.flow     INFO     Executing node coherence_score. node run id: a8068ac0-2099-4a46-ae6f-d92c2f4dfd83_coherence_score_0\n",
      "2024-04-13 13:08:15 +0000   44179 execution.flow     INFO     Executing node fluency_score. node run id: a8068ac0-2099-4a46-ae6f-d92c2f4dfd83_fluency_score_0\n",
      "2024-04-13 13:08:15 +0000   44179 execution.flow     INFO     Executing node groundedness_score. node run id: a8068ac0-2099-4a46-ae6f-d92c2f4dfd83_groundedness_score_0\n",
      "2024-04-13 13:08:15 +0000   44179 execution.flow     INFO     Executing node relevance_score. node run id: a8068ac0-2099-4a46-ae6f-d92c2f4dfd83_relevance_score_0\n",
      "2024-04-13 13:08:16 +0000   44179 execution.flow     INFO     Node coherence_score completes.\n",
      "2024-04-13 13:08:16 +0000   44179 execution.flow     INFO     Executing node coherence_concat_scores. node run id: a8068ac0-2099-4a46-ae6f-d92c2f4dfd83_coherence_concat_scores_0\n",
      "2024-04-13 13:08:16 +0000   44179 execution.flow     INFO     Node coherence_concat_scores completes.\n",
      "2024-04-13 13:08:16 +0000   44179 execution.flow     INFO     Node relevance_score completes.\n",
      "2024-04-13 13:08:16 +0000   44179 execution.flow     INFO     Executing node relevance_concat_scores. node run id: a8068ac0-2099-4a46-ae6f-d92c2f4dfd83_relevance_concat_scores_0\n",
      "2024-04-13 13:08:16 +0000   44179 execution.flow     INFO     Node relevance_concat_scores completes.\n",
      "2024-04-13 13:08:16 +0000   44179 execution.flow     INFO     Node fluency_score completes.\n",
      "2024-04-13 13:08:16 +0000   44179 execution.flow     INFO     Executing node fluency_concat_scores. node run id: a8068ac0-2099-4a46-ae6f-d92c2f4dfd83_fluency_concat_scores_0\n",
      "2024-04-13 13:08:16 +0000   44179 execution.flow     INFO     Node fluency_concat_scores completes.\n",
      "2024-04-13 13:08:16 +0000   44179 execution.flow     INFO     Node groundedness_score completes.\n",
      "2024-04-13 13:08:16 +0000   44179 execution.flow     INFO     Executing node groundedness_concat_scores. node run id: a8068ac0-2099-4a46-ae6f-d92c2f4dfd83_groundedness_concat_scores_0\n",
      "2024-04-13 13:08:16 +0000   44179 execution.flow     INFO     Node groundedness_concat_scores completes.\n",
      "2024-04-13 13:08:16 +0000   44179 execution.flow     INFO     Start executing nodes in thread pool mode.\n",
      "2024-04-13 13:08:16 +0000   44179 execution.flow     INFO     Start to run 4 nodes with concurrency level 16.\n",
      "2024-04-13 13:08:16 +0000   44179 execution.flow     INFO     Executing node coherence_aggregate_variants_results. node run id: a8068ac0-2099-4a46-ae6f-d92c2f4dfd83_coherence_aggregate_variants_results_reduce\n",
      "2024-04-13 13:08:16 +0000   44179 execution.flow     INFO     Node coherence_aggregate_variants_results completes.\n",
      "2024-04-13 13:08:16 +0000   44179 execution.flow     INFO     Executing node fluency_aggregate_variants_results. node run id: a8068ac0-2099-4a46-ae6f-d92c2f4dfd83_fluency_aggregate_variants_results_reduce\n",
      "2024-04-13 13:08:16 +0000   44179 execution.flow     INFO     Executing node groundedness_aggregate_variants_results. node run id: a8068ac0-2099-4a46-ae6f-d92c2f4dfd83_groundedness_aggregate_variants_results_reduce\n",
      "2024-04-13 13:08:16 +0000   44179 execution.flow     INFO     Executing node relevance_aggregate_variants_results. node run id: a8068ac0-2099-4a46-ae6f-d92c2f4dfd83_relevance_aggregate_variants_results_reduce\n",
      "2024-04-13 13:08:16 +0000   44179 execution.flow     INFO     Node fluency_aggregate_variants_results completes.\n",
      "2024-04-13 13:08:16 +0000   44179 execution.flow     INFO     Node groundedness_aggregate_variants_results completes.\n",
      "2024-04-13 13:08:16 +0000   44179 execution.flow     INFO     Node relevance_aggregate_variants_results completes.\n"
     ]
    }
   ],
   "source": [
    "test_multi = pf_client.test(\n",
    "    \"multi_flow\",\n",
    "    inputs={\n",
    "        \"question\": question,\n",
    "        \"context\": str(output[\"context\"]),\n",
    "        \"answer\": output[\"answer\"],\n",
    "    },\n",
    ")"
   ]
  },
  {
   "cell_type": "code",
   "execution_count": 48,
   "metadata": {},
   "outputs": [
    {
     "data": {
      "text/plain": [
       "{'gpt_coherence': 5.0,\n",
       " 'gpt_fluency': 5.0,\n",
       " 'gpt_groundedness': 5.0,\n",
       " 'gpt_relevance': 5.0}"
      ]
     },
     "execution_count": 48,
     "metadata": {},
     "output_type": "execute_result"
    }
   ],
   "source": [
    "test_multi"
   ]
  },
  {
   "cell_type": "markdown",
   "metadata": {},
   "source": [
    "# AI Studio Azure batch run on an evaluation json dataset\n",
    "\n",
    "Now in order to test these more thoroughly, we can use the Azure AI Studio to run batches of test data with the evaluation prompt flow on a larger dataset."
   ]
  },
  {
   "cell_type": "code",
   "execution_count": 49,
   "metadata": {},
   "outputs": [],
   "source": [
    "import json\n",
    "# Import required libraries\n",
    "from promptflow.azure import PFClient\n",
    "\n",
    "# Import required libraries\n",
    "from azure.identity import DefaultAzureCredential, InteractiveBrowserCredential"
   ]
  },
  {
   "cell_type": "code",
   "execution_count": 50,
   "metadata": {},
   "outputs": [],
   "source": [
    "try:\n",
    "    credential = DefaultAzureCredential()\n",
    "    # Check if given credential can get token successfully.\n",
    "    credential.get_token(\"https://management.azure.com/.default\")\n",
    "except Exception as ex:\n",
    "    # Fall back to InteractiveBrowserCredential in case DefaultAzureCredential not work\n",
    "    credential = InteractiveBrowserCredential()"
   ]
  },
  {
   "cell_type": "markdown",
   "metadata": {},
   "source": [
    "Populate the `config.json` file with the subscription_id, resource_group, and workspace_name."
   ]
  },
  {
   "cell_type": "code",
   "execution_count": 51,
   "metadata": {},
   "outputs": [
    {
     "name": "stderr",
     "output_type": "stream",
     "text": [
      "Found the config file in: ../config.json\n"
     ]
    }
   ],
   "source": [
    "config_path = \"../config.json\"\n",
    "pf_azure_client = PFClient.from_config(credential=credential, path=config_path)"
   ]
  },
  {
   "cell_type": "markdown",
   "metadata": {},
   "source": [
    "Add the runtime from the AI Studio that will be used for the cloud batch runs."
   ]
  },
  {
   "cell_type": "code",
   "execution_count": 52,
   "metadata": {},
   "outputs": [],
   "source": [
    "# Update the runtime to the name of the runtime you created previously\n",
    "runtime = \"automatic\"\n",
    "# load flow\n",
    "flow = \"../contoso-chat\"\n",
    "# load data\n",
    "data = \"../data/salestestdata.jsonl\""
   ]
  },
  {
   "cell_type": "code",
   "execution_count": 53,
   "metadata": {},
   "outputs": [
    {
     "name": "stdout",
     "output_type": "stream",
     "text": [
      "2024_04_13_130818chat_base_run\n"
     ]
    }
   ],
   "source": [
    "# get current time stamp for run name\n",
    "import datetime\n",
    "now = datetime.datetime.now()\n",
    "timestamp = now.strftime(\"%Y_%m_%d_%H%M%S\")\n",
    "run_name = timestamp+\"chat_base_run\"\n",
    "print(run_name)"
   ]
  },
  {
   "cell_type": "markdown",
   "metadata": {},
   "source": [
    "Create a base run to use as the variant for the evaluation runs. \n",
    "\n",
    "_NOTE: If you get \"'An existing connection was forcibly closed by the remote host'\" run the cell again._"
   ]
  },
  {
   "cell_type": "code",
   "execution_count": 54,
   "metadata": {},
   "outputs": [
    {
     "name": "stderr",
     "output_type": "stream",
     "text": [
      "\u001b[32mUploading contoso-chat (1.15 MBs): 100%|██████████| 1147518/1147518 [00:00<00:00, 3302768.96it/s]\n",
      "\u001b[39m\n",
      "\n",
      "[2024-04-13 13:08:21,808][promptflow][WARNING] - You're using automatic runtime, if it's first time you're using it, it may take a while to build runtime and you may see 'NotStarted' status for a while. \n"
     ]
    },
    {
     "name": "stdout",
     "output_type": "stream",
     "text": [
      "Portal url: https://ai.azure.com/projectflows/bulkrun/run/2024_04_13_130818chat_base_run/details?wsid=/subscriptions/29cdfaaf-ac8c-4196-a2d8-5dff09de7abf/resourcegroups/amsosram-rg/providers/Microsoft.MachineLearningServices/workspaces/contoso-chat-sf-aiproj\n",
      "name: 2024_04_13_130818chat_base_run\n",
      "created_on: '2024-04-13T13:08:24.511582+00:00'\n",
      "status: Preparing\n",
      "display_name: 2024_04_13_130818chat_base_run\n",
      "description:\n",
      "tags: {}\n",
      "properties:\n",
      "  azureml.promptflow.runtime_name: automatic\n",
      "  azureml.promptflow.inputs_mapping: '{\"customerId\":\"${data.customerId}\",\"question\":\"${data.question}\"}'\n",
      "  azureml.promptflow.session_id: 8057de8113bfdf330bc5513b15d084d7352ca98f0869f013\n",
      "  azureml.promptflow.definition_file_name: flow.dag.yaml\n",
      "  azureml.promptflow.flow_lineage_id: a6117409b8b717c7e79942d8573769a6d1f4ac180e7fabad302590d2b43bff3c\n",
      "  azureml.promptflow.flow_definition_datastore_name: workspaceblobstore\n",
      "  azureml.promptflow.flow_definition_blob_path: LocalUpload/f9adae123da0b1720981f38c1d7b3c7f/contoso-chat/flow.dag.yaml\n",
      "  _azureml.evaluation_run: promptflow.BatchRun\n",
      "  azureml.promptflow.snapshot_id: 56fb09d9-df04-4276-ad21-651080bf4e4f\n",
      "  azureml.promptflow.runtime_version: ''\n",
      "creation_context:\n",
      "  userObjectId: ccb5dc44-0871-40af-84cd-2c39c3864a9b\n",
      "  userPuId: 1003200249758D46\n",
      "  userIdp: https://sts.windows.net/72f988bf-86f1-41af-91ab-2d7cd011db47/\n",
      "  userAltSecId: 5::100320017420AABF\n",
      "  userIss: https://sts.windows.net/16b3c013-d300-468d-ac64-7eda0820b6d3/\n",
      "  userTenantId: 16b3c013-d300-468d-ac64-7eda0820b6d3\n",
      "  userName: Marta Santos\n",
      "  upn:\n",
      "start_time:\n",
      "end_time:\n",
      "duration:\n",
      "portal_url: \n",
      "  https://ai.azure.com/projectflows/bulkrun/run/2024_04_13_130818chat_base_run/details?wsid=/subscriptions/29cdfaaf-ac8c-4196-a2d8-5dff09de7abf/resourcegroups/amsosram-rg/providers/Microsoft.MachineLearningServices/workspaces/contoso-chat-sf-aiproj\n",
      "data: \n",
      "  azureml://datastores/workspaceblobstore/paths/LocalUpload/4d587c1ae8d46401e3a71b74abe367df/salestestdata.jsonl\n",
      "output:\n",
      "\n"
     ]
    }
   ],
   "source": [
    "# create base run in Azure Ai Studio\n",
    "base_run = pf_azure_client.run(\n",
    "    flow=flow,\n",
    "    data=data,\n",
    "    column_mapping={\n",
    "        # reference data\n",
    "        \"customerId\": \"${data.customerId}\",\n",
    "        \"question\": \"${data.question}\",\n",
    "    },\n",
    "    runtime=runtime,\n",
    "    # create a display name as current datetime\n",
    "    display_name=run_name,\n",
    "    name=run_name\n",
    ")\n",
    "print(base_run)"
   ]
  },
  {
   "cell_type": "code",
   "execution_count": 55,
   "metadata": {},
   "outputs": [
    {
     "name": "stdout",
     "output_type": "stream",
     "text": [
      "2024-04-13 13:08:30 +0000     110 promptflow-runtime INFO     [2024_04_13_130818chat_base_run] Receiving v2 bulk run request f8c6d3ca-88d7-464c-af3d-3c1a1ed35de0: {\"flow_id\": \"2024_04_13_130818chat_base_run\", \"flow_run_id\": \"2024_04_13_130818chat_base_run\", \"flow_source\": {\"flow_source_type\": 1, \"flow_source_info\": {\"snapshot_id\": \"56fb09d9-df04-4276-ad21-651080bf4e4f\"}, \"flow_dag_file\": \"flow.dag.yaml\"}, \"connections\": \"**data_scrubbed**\", \"log_path\": \"https://stcontosotfv2oizypxjwe.blob.core.windows.net/5d7d185f-55f6-4f23-a7ef-20b415fe6164-azureml/ExperimentRun/dcid.2024_04_13_130818chat_base_run/logs/azureml/executionlogs.txt?sv=2019-07-07&sr=b&sig=**data_scrubbed**&skoid=4d39e09e-c368-4f23-8e7e-b54c6b72756d&sktid=16b3c013-d300-468d-ac64-7eda0820b6d3&skt=2024-04-13T12%3A26%3A23Z&ske=2024-04-14T20%3A36%3A23Z&sks=b&skv=2019-07-07&st=2024-04-13T12%3A58%3A29Z&se=2024-04-13T21%3A08%3A29Z&sp=rcw\", \"app_insights_instrumentation_key\": \"InstrumentationKey=**data_scrubbed**;IngestionEndpoint=https://swedencentral-0.in.applicationinsights.azure.com/\", \"batch_timeout_sec\": 36000, \"data_inputs\": {\"data\": \"azureml://datastores/workspaceblobstore/paths/LocalUpload/4d587c1ae8d46401e3a71b74abe367df/salestestdata.jsonl\"}, \"inputs_mapping\": {\"customerId\": \"${data.customerId}\", \"question\": \"${data.question}\"}, \"azure_storage_setting\": {\"azure_storage_mode\": 1, \"storage_account_name\": \"stcontosotfv2oizypxjwe\", \"blob_container_name\": \"5d7d185f-55f6-4f23-a7ef-20b415fe6164-azureml-blobstore\", \"flow_artifacts_root_path\": \"promptflow/PromptFlowArtifacts/2024_04_13_130818chat_base_run\", \"blob_container_sas_token\": \"?sv=2019-07-07&sr=c&sig=**data_scrubbed**&skoid=4d39e09e-c368-4f23-8e7e-b54c6b72756d&sktid=16b3c013-d300-468d-ac64-7eda0820b6d3&skt=2024-04-13T13%3A08%3A29Z&ske=2024-04-20T13%3A08%3A29Z&sks=b&skv=2019-07-07&se=2024-04-20T13%3A08%3A29Z&sp=racwl\", \"output_datastore_name\": \"workspaceblobstore\"}}\n",
      "2024-04-13 13:08:31 +0000     110 promptflow-runtime INFO     Runtime version: 20240403.v2. PromptFlow version: 1.8.0rc3\n",
      "2024-04-13 13:08:31 +0000     110 promptflow-runtime INFO     Updating 2024_04_13_130818chat_base_run to Status.Preparing...\n",
      "2024-04-13 13:08:31 +0000     110 promptflow-runtime INFO     Downloading snapshot to /mnt/host/service/app/36139/requests/2024_04_13_130818chat_base_run\n",
      "2024-04-13 13:08:31 +0000     110 promptflow-runtime INFO     Get snapshot sas url for 56fb09d9-df04-4276-ad21-651080bf4e4f.\n",
      "2024-04-13 13:08:31 +0000     110 promptflow-runtime INFO     Snapshot 56fb09d9-df04-4276-ad21-651080bf4e4f contains 15 files.\n",
      "2024-04-13 13:08:31 +0000     110 promptflow-runtime INFO     Download snapshot 56fb09d9-df04-4276-ad21-651080bf4e4f completed.\n",
      "2024-04-13 13:08:31 +0000     110 promptflow-runtime INFO     Successfully download snapshot to /mnt/host/service/app/36139/requests/2024_04_13_130818chat_base_run\n",
      "2024-04-13 13:08:31 +0000     110 promptflow-runtime INFO     About to execute a python flow.\n",
      "2024-04-13 13:08:31 +0000     110 promptflow-runtime INFO     Use spawn method to start child process.\n",
      "2024-04-13 13:08:32 +0000     110 promptflow-runtime INFO     Starting to check process 278 status for run 2024_04_13_130818chat_base_run\n",
      "2024-04-13 13:08:32 +0000     110 promptflow-runtime INFO     Start checking run status for run 2024_04_13_130818chat_base_run\n",
      "2024-04-13 13:08:36 +0000     278 promptflow-runtime INFO     [110--278] Start processing flowV2......\n",
      "2024-04-13 13:08:36 +0000     278 promptflow-runtime INFO     Runtime version: 20240403.v2. PromptFlow version: 1.8.0rc3\n",
      "2024-04-13 13:08:36 +0000     278 promptflow-runtime INFO     Setting mlflow tracking uri...\n",
      "2024-04-13 13:08:36 +0000     278 promptflow-runtime INFO     Validating 'AzureML Data Scientist' user authentication...\n",
      "2024-04-13 13:08:36 +0000     278 promptflow-runtime INFO     Successfully validated 'AzureML Data Scientist' user authentication.\n",
      "2024-04-13 13:08:36 +0000     278 promptflow-runtime INFO     Using AzureMLRunStorageV2\n",
      "2024-04-13 13:08:36 +0000     278 promptflow-runtime INFO     Setting mlflow tracking uri to 'azureml://swedencentral.api.azureml.ms/mlflow/v1.0/subscriptions/29cdfaaf-ac8c-4196-a2d8-5dff09de7abf/resourceGroups/amsosram-rg/providers/Microsoft.MachineLearningServices/workspaces/contoso-chat-sf-aiproj'\n",
      "2024-04-13 13:08:36 +0000     278 promptflow-runtime INFO     Initialized blob service client.\n",
      "2024-04-13 13:08:36 +0000     278 promptflow-runtime INFO     Blob service client has api version: 2023-11-03\n",
      "2024-04-13 13:08:36 +0000     278 promptflow-runtime INFO     Setting mlflow tracking uri to 'azureml://swedencentral.api.azureml.ms/mlflow/v1.0/subscriptions/29cdfaaf-ac8c-4196-a2d8-5dff09de7abf/resourceGroups/amsosram-rg/providers/Microsoft.MachineLearningServices/workspaces/contoso-chat-sf-aiproj'\n",
      "2024-04-13 13:08:36 +0000     278 promptflow-runtime INFO     Creating unregistered output Asset for Run 2024_04_13_130818chat_base_run...\n",
      "2024-04-13 13:08:37 +0000     278 promptflow-runtime INFO     Created debug_info Asset: azureml://locations/swedencentral/workspaces/5d7d185f-55f6-4f23-a7ef-20b415fe6164/data/azureml_2024_04_13_130818chat_base_run_output_data_debug_info/versions/1\n",
      "2024-04-13 13:08:37 +0000     278 promptflow-runtime INFO     Creating unregistered output Asset for Run 2024_04_13_130818chat_base_run...\n",
      "2024-04-13 13:08:38 +0000     278 promptflow-runtime INFO     Created flow_outputs output Asset: azureml://locations/swedencentral/workspaces/5d7d185f-55f6-4f23-a7ef-20b415fe6164/data/azureml_2024_04_13_130818chat_base_run_output_data_flow_outputs/versions/1\n",
      "2024-04-13 13:08:38 +0000     278 promptflow-runtime INFO     Patching 2024_04_13_130818chat_base_run...\n",
      "2024-04-13 13:08:39 +0000     278 promptflow-runtime INFO     Resolve data from url finished in 0.96602815299957 seconds\n",
      "2024-04-13 13:08:39 +0000     278 promptflow-runtime INFO     Starting the aml run '2024_04_13_130818chat_base_run'...\n",
      "2024-04-13 13:08:40 +0000     278 execution.bulk     INFO     The timeout for the batch run is 36000 seconds.\n",
      "2024-04-13 13:08:40 +0000     278 execution.bulk     INFO     Set process count to 4 by taking the minimum value among the factors of {'default_worker_count': 4, 'row_count': 5}.\n",
      "2024-04-13 13:08:45 +0000     278 execution.bulk     INFO     Process name(ForkProcess-4:2:1)-Process id(378)-Line number(1) start execution.\n",
      "2024-04-13 13:08:45 +0000     278 execution.bulk     INFO     Process name(ForkProcess-4:2:4)-Process id(405)-Line number(0) start execution.\n",
      "2024-04-13 13:08:45 +0000     278 execution.bulk     INFO     Process name(ForkProcess-4:2:2)-Process id(388)-Line number(2) start execution.\n",
      "2024-04-13 13:08:45 +0000     278 execution.bulk     INFO     Process name(ForkProcess-4:2:3)-Process id(397)-Line number(3) start execution.\n",
      "(Run status is 'Running', continue streaming...)\n",
      "2024-04-13 13:08:55 +0000     278 execution.bulk     INFO     Process name(ForkProcess-4:2:2)-Process id(388)-Line number(2) completed.\n",
      "2024-04-13 13:08:55 +0000     278 execution.bulk     INFO     Process name(ForkProcess-4:2:2)-Process id(388)-Line number(4) start execution.\n",
      "2024-04-13 13:08:55 +0000     278 execution.bulk     INFO     Process name(ForkProcess-4:2:4)-Process id(405)-Line number(0) completed.\n",
      "2024-04-13 13:08:55 +0000     278 execution.bulk     INFO     Process name(ForkProcess-4:2:1)-Process id(378)-Line number(1) completed.\n",
      "2024-04-13 13:08:55 +0000     278 execution.bulk     INFO     Process name(ForkProcess-4:2:3)-Process id(397)-Line number(3) completed.\n",
      "2024-04-13 13:08:55 +0000     278 execution.bulk     INFO     Finished 4 / 5 lines.\n",
      "2024-04-13 13:08:55 +0000     278 execution.bulk     INFO     Average execution time for completed lines: 3.76 seconds. Estimated time for incomplete lines: 3.76 seconds.\n",
      "2024-04-13 13:08:58 +0000     278 execution.bulk     INFO     Process name(ForkProcess-4:2:2)-Process id(388)-Line number(4) completed.\n",
      "2024-04-13 13:08:58 +0000     278 execution.bulk     INFO     Finished 5 / 5 lines.\n",
      "2024-04-13 13:08:58 +0000     278 execution.bulk     INFO     Average execution time for completed lines: 3.61 seconds. Estimated time for incomplete lines: 0.0 seconds.\n",
      "2024-04-13 13:08:58 +0000     278 execution.bulk     INFO     The thread monitoring the process [405-ForkProcess-4:2:4] will be terminated.\n",
      "2024-04-13 13:08:58 +0000     278 execution.bulk     INFO     The thread monitoring the process [388-ForkProcess-4:2:2] will be terminated.\n",
      "2024-04-13 13:08:58 +0000     278 execution.bulk     INFO     The thread monitoring the process [378-ForkProcess-4:2:1] will be terminated.\n",
      "2024-04-13 13:08:58 +0000     278 execution.bulk     INFO     The thread monitoring the process [397-ForkProcess-4:2:3] will be terminated.\n",
      "2024-04-13 13:08:58 +0000     405 execution.bulk     INFO     The process [405] has received a terminate signal.\n",
      "2024-04-13 13:08:59 +0000     388 execution.bulk     INFO     The process [388] has received a terminate signal.\n",
      "2024-04-13 13:08:59 +0000     405 execution.bulk     WARNING  Error occurred while shutting down tracer provider: 'ProxyTracerProvider' object has no attribute 'shutdown'\n",
      "2024-04-13 13:08:59 +0000     388 execution.bulk     WARNING  Error occurred while shutting down tracer provider: 'ProxyTracerProvider' object has no attribute 'shutdown'\n",
      "2024-04-13 13:08:59 +0000     378 execution.bulk     INFO     The process [378] has received a terminate signal.\n",
      "2024-04-13 13:08:59 +0000     397 execution.bulk     INFO     The process [397] has received a terminate signal.\n",
      "2024-04-13 13:08:59 +0000     378 execution.bulk     WARNING  Error occurred while shutting down tracer provider: 'ProxyTracerProvider' object has no attribute 'shutdown'\n",
      "2024-04-13 13:08:59 +0000     397 execution.bulk     WARNING  Error occurred while shutting down tracer provider: 'ProxyTracerProvider' object has no attribute 'shutdown'\n",
      "2024-04-13 13:09:00 +0000     278 promptflow-runtime INFO     Post processing batch result...\n",
      "2024-04-13 13:09:02 +0000     278 execution.bulk     INFO     Upload status summary metrics for run 2024_04_13_130818chat_base_run finished in 2.606847089999974 seconds\n",
      "2024-04-13 13:09:02 +0000     278 promptflow-runtime INFO     Successfully write run properties {\"azureml.promptflow.total_tokens\": 7552, \"_azureml.evaluate_artifacts\": \"[{\\\"path\\\": \\\"instance_results.jsonl\\\", \\\"type\\\": \\\"table\\\"}]\"} with run id '2024_04_13_130818chat_base_run'\n",
      "2024-04-13 13:09:02 +0000     278 execution.bulk     INFO     Upload RH properties for run 2024_04_13_130818chat_base_run finished in 0.0652598990000115 seconds\n",
      "2024-04-13 13:09:02 +0000     278 promptflow-runtime INFO     Creating Artifact for Run 2024_04_13_130818chat_base_run...\n",
      "2024-04-13 13:09:02 +0000     278 promptflow-runtime INFO     Created instance_results.jsonl Artifact.\n",
      "2024-04-13 13:09:02 +0000     278 promptflow-runtime INFO     Ending the aml run '2024_04_13_130818chat_base_run' with status 'Completed'...\n",
      "======= Run Summary =======\n",
      "Run name: \"2024_04_13_130818chat_base_run\"\n",
      "Run status: \"Completed\"\n",
      "Start time: \"2024-04-13 13:08:39.901343+00:00\"\n",
      "Duration: \"0:00:23.116342\"\n",
      "Run url: \"https://ai.azure.com/projectflows/bulkrun/run/2024_04_13_130818chat_base_run/details?wsid=/subscriptions/29cdfaaf-ac8c-4196-a2d8-5dff09de7abf/resourcegroups/amsosram-rg/providers/Microsoft.MachineLearningServices/workspaces/contoso-chat-sf-aiproj\""
     ]
    },
    {
     "data": {
      "text/plain": [
       "<promptflow._sdk.entities._run.Run at 0x7f010a886610>"
      ]
     },
     "execution_count": 55,
     "metadata": {},
     "output_type": "execute_result"
    }
   ],
   "source": [
    "pf_azure_client.stream(base_run)"
   ]
  },
  {
   "cell_type": "code",
   "execution_count": 56,
   "metadata": {},
   "outputs": [
    {
     "data": {
      "text/html": [
       "<div>\n",
       "<style scoped>\n",
       "    .dataframe tbody tr th:only-of-type {\n",
       "        vertical-align: middle;\n",
       "    }\n",
       "\n",
       "    .dataframe tbody tr th {\n",
       "        vertical-align: top;\n",
       "    }\n",
       "\n",
       "    .dataframe thead th {\n",
       "        text-align: right;\n",
       "    }\n",
       "</style>\n",
       "<table border=\"1\" class=\"dataframe\">\n",
       "  <thead>\n",
       "    <tr style=\"text-align: right;\">\n",
       "      <th></th>\n",
       "      <th>inputs.customerId</th>\n",
       "      <th>inputs.question</th>\n",
       "      <th>inputs.line_number</th>\n",
       "      <th>inputs.chat_history</th>\n",
       "      <th>outputs.answer</th>\n",
       "      <th>outputs.context</th>\n",
       "    </tr>\n",
       "    <tr>\n",
       "      <th>outputs.line_number</th>\n",
       "      <th></th>\n",
       "      <th></th>\n",
       "      <th></th>\n",
       "      <th></th>\n",
       "      <th></th>\n",
       "      <th></th>\n",
       "    </tr>\n",
       "  </thead>\n",
       "  <tbody>\n",
       "    <tr>\n",
       "      <th>0</th>\n",
       "      <td>4</td>\n",
       "      <td>tell me about your hiking jackets</td>\n",
       "      <td>0</td>\n",
       "      <td>[]</td>\n",
       "      <td>Hey Sarah Lee! 😄 Let me tell you about our awe...</td>\n",
       "      <td>[{'id': '17', 'title': 'RainGuard Hiking Jacke...</td>\n",
       "    </tr>\n",
       "    <tr>\n",
       "      <th>1</th>\n",
       "      <td>1</td>\n",
       "      <td>Do you have any climbing gear?</td>\n",
       "      <td>1</td>\n",
       "      <td>[]</td>\n",
       "      <td>Hey John Smith! 👋 Absolutely, we have some awe...</td>\n",
       "      <td>[{'id': '9', 'title': 'SummitClimber Backpack'...</td>\n",
       "    </tr>\n",
       "    <tr>\n",
       "      <th>2</th>\n",
       "      <td>3</td>\n",
       "      <td>Can you tell me about your selection of tents?</td>\n",
       "      <td>2</td>\n",
       "      <td>[]</td>\n",
       "      <td>Hey Michael! 🌲🏕️ Let me tell you about our awe...</td>\n",
       "      <td>[{'id': '15', 'title': 'SkyView 2-Person Tent'...</td>\n",
       "    </tr>\n",
       "    <tr>\n",
       "      <th>3</th>\n",
       "      <td>6</td>\n",
       "      <td>Do you have any hiking boots?</td>\n",
       "      <td>3</td>\n",
       "      <td>[]</td>\n",
       "      <td>Hey Emily! 👋 Absolutely, we have some awesome ...</td>\n",
       "      <td>[{'id': '4', 'title': 'TrekReady Hiking Boots'...</td>\n",
       "    </tr>\n",
       "    <tr>\n",
       "      <th>4</th>\n",
       "      <td>2</td>\n",
       "      <td>What gear do you recommend for hiking?</td>\n",
       "      <td>4</td>\n",
       "      <td>[]</td>\n",
       "      <td>Hey Jane! 🌲 For hiking gear, I recommend the T...</td>\n",
       "      <td>[{'id': '10', 'title': 'TrailBlaze Hiking Pant...</td>\n",
       "    </tr>\n",
       "  </tbody>\n",
       "</table>\n",
       "</div>"
      ],
      "text/plain": [
       "                    inputs.customerId  \\\n",
       "outputs.line_number                     \n",
       "0                                   4   \n",
       "1                                   1   \n",
       "2                                   3   \n",
       "3                                   6   \n",
       "4                                   2   \n",
       "\n",
       "                                                    inputs.question  \\\n",
       "outputs.line_number                                                   \n",
       "0                                 tell me about your hiking jackets   \n",
       "1                                    Do you have any climbing gear?   \n",
       "2                    Can you tell me about your selection of tents?   \n",
       "3                                     Do you have any hiking boots?   \n",
       "4                            What gear do you recommend for hiking?   \n",
       "\n",
       "                     inputs.line_number inputs.chat_history  \\\n",
       "outputs.line_number                                           \n",
       "0                                     0                  []   \n",
       "1                                     1                  []   \n",
       "2                                     2                  []   \n",
       "3                                     3                  []   \n",
       "4                                     4                  []   \n",
       "\n",
       "                                                        outputs.answer  \\\n",
       "outputs.line_number                                                      \n",
       "0                    Hey Sarah Lee! 😄 Let me tell you about our awe...   \n",
       "1                    Hey John Smith! 👋 Absolutely, we have some awe...   \n",
       "2                    Hey Michael! 🌲🏕️ Let me tell you about our awe...   \n",
       "3                    Hey Emily! 👋 Absolutely, we have some awesome ...   \n",
       "4                    Hey Jane! 🌲 For hiking gear, I recommend the T...   \n",
       "\n",
       "                                                       outputs.context  \n",
       "outputs.line_number                                                     \n",
       "0                    [{'id': '17', 'title': 'RainGuard Hiking Jacke...  \n",
       "1                    [{'id': '9', 'title': 'SummitClimber Backpack'...  \n",
       "2                    [{'id': '15', 'title': 'SkyView 2-Person Tent'...  \n",
       "3                    [{'id': '4', 'title': 'TrekReady Hiking Boots'...  \n",
       "4                    [{'id': '10', 'title': 'TrailBlaze Hiking Pant...  "
      ]
     },
     "execution_count": 56,
     "metadata": {},
     "output_type": "execute_result"
    }
   ],
   "source": [
    "details = pf_azure_client.get_details(base_run)\n",
    "details.head(10)"
   ]
  },
  {
   "cell_type": "markdown",
   "metadata": {},
   "source": [
    "# Cloud Eval run on Json Data"
   ]
  },
  {
   "cell_type": "code",
   "execution_count": 57,
   "metadata": {},
   "outputs": [
    {
     "name": "stdout",
     "output_type": "stream",
     "text": [
      "2024_04_13_130818chat_eval_run\n"
     ]
    },
    {
     "name": "stderr",
     "output_type": "stream",
     "text": [
      "\u001b[32mUploading multi_flow (0.03 MBs): 100%|██████████| 32084/32084 [00:00<00:00, 101498.95it/s]\n",
      "\u001b[39m\n",
      "\n",
      "[2024-04-13 13:09:43,981][promptflow][WARNING] - You're using automatic runtime, if it's first time you're using it, it may take a while to build runtime and you may see 'NotStarted' status for a while. \n"
     ]
    },
    {
     "name": "stdout",
     "output_type": "stream",
     "text": [
      "Portal url: https://ai.azure.com/projectflows/bulkrun/run/2024_04_13_130818chat_eval_run/details?wsid=/subscriptions/29cdfaaf-ac8c-4196-a2d8-5dff09de7abf/resourcegroups/amsosram-rg/providers/Microsoft.MachineLearningServices/workspaces/contoso-chat-sf-aiproj\n"
     ]
    }
   ],
   "source": [
    "eval_flow = \"multi_flow/\"\n",
    "data = \"../data/salestestdata.jsonl\"\n",
    "run_name = timestamp+\"chat_eval_run\"\n",
    "print(run_name)\n",
    "\n",
    "eval_run_variant = pf_azure_client.run(\n",
    "    flow=eval_flow,\n",
    "    data=data,  # path to the data file\n",
    "    run=base_run,  # use run as the variant\n",
    "    column_mapping={\n",
    "        # reference data\n",
    "        \"customerId\": \"${data.customerId}\",\n",
    "        \"question\": \"${data.question}\",\n",
    "        \"context\": \"${run.outputs.context}\",\n",
    "        # reference the run's output\n",
    "        \"answer\": \"${run.outputs.answer}\",\n",
    "    },\n",
    "    runtime=runtime,\n",
    "    display_name=run_name,\n",
    "    name=run_name\n",
    ")"
   ]
  },
  {
   "cell_type": "code",
   "execution_count": 58,
   "metadata": {},
   "outputs": [
    {
     "name": "stdout",
     "output_type": "stream",
     "text": [
      "(Run status is 'NotStarted', continue streaming...)\n",
      "(Run status is 'Preparing', continue streaming...)\n",
      "2024-04-13 13:10:41 +0000     109 promptflow-runtime INFO     [2024_04_13_130818chat_eval_run] Receiving v2 bulk run request c855892e-104a-4c1e-9a74-7e12956ce239: {\"flow_id\": \"2024_04_13_130818chat_eval_run\", \"flow_run_id\": \"2024_04_13_130818chat_eval_run\", \"flow_source\": {\"flow_source_type\": 1, \"flow_source_info\": {\"snapshot_id\": \"92e6fe71-fb6b-4f9a-a836-4219e1cd7ced\"}, \"flow_dag_file\": \"flow.dag.yaml\"}, \"connections\": \"**data_scrubbed**\", \"log_path\": \"https://stcontosotfv2oizypxjwe.blob.core.windows.net/5d7d185f-55f6-4f23-a7ef-20b415fe6164-azureml/ExperimentRun/dcid.2024_04_13_130818chat_eval_run/logs/azureml/executionlogs.txt?sv=2019-07-07&sr=b&sig=**data_scrubbed**&skoid=4d39e09e-c368-4f23-8e7e-b54c6b72756d&sktid=16b3c013-d300-468d-ac64-7eda0820b6d3&skt=2024-04-13T12%3A26%3A23Z&ske=2024-04-14T20%3A36%3A23Z&sks=b&skv=2019-07-07&st=2024-04-13T13%3A00%3A41Z&se=2024-04-13T21%3A10%3A41Z&sp=rcw\", \"app_insights_instrumentation_key\": \"InstrumentationKey=**data_scrubbed**;IngestionEndpoint=https://swedencentral-0.in.applicationinsights.azure.com/\", \"batch_timeout_sec\": 36000, \"data_inputs\": {\"data\": \"azureml://datastores/workspaceblobstore/paths/LocalUpload/4d587c1ae8d46401e3a71b74abe367df/salestestdata.jsonl\", \"run.outputs\": \"azureml:/subscriptions/29cdfaaf-ac8c-4196-a2d8-5dff09de7abf/resourceGroups/amsosram-rg/providers/Microsoft.MachineLearningServices/workspaces/contoso-chat-sf-aiproj/data/azureml_2024_04_13_130818chat_base_run_output_data_flow_outputs/versions/1\"}, \"inputs_mapping\": {\"customerId\": \"${data.customerId}\", \"question\": \"${data.question}\", \"context\": \"${run.outputs.context}\", \"answer\": \"${run.outputs.answer}\"}, \"azure_storage_setting\": {\"azure_storage_mode\": 1, \"storage_account_name\": \"stcontosotfv2oizypxjwe\", \"blob_container_name\": \"5d7d185f-55f6-4f23-a7ef-20b415fe6164-azureml-blobstore\", \"flow_artifacts_root_path\": \"promptflow/PromptFlowArtifacts/2024_04_13_130818chat_eval_run\", \"blob_container_sas_token\": \"?sv=2019-07-07&sr=c&sig=**data_scrubbed**&skoid=4d39e09e-c368-4f23-8e7e-b54c6b72756d&sktid=16b3c013-d300-468d-ac64-7eda0820b6d3&skt=2024-04-13T13%3A10%3A41Z&ske=2024-04-20T13%3A10%3A41Z&sks=b&skv=2019-07-07&se=2024-04-20T13%3A10%3A41Z&sp=racwl\", \"output_datastore_name\": \"workspaceblobstore\"}, \"variant_run_id\": \"2024_04_13_130818chat_base_run\"}\n",
      "2024-04-13 13:10:42 +0000     109 promptflow-runtime INFO     Runtime version: 20240403.v2. PromptFlow version: 1.8.0rc3\n",
      "2024-04-13 13:10:42 +0000     109 promptflow-runtime INFO     Updating 2024_04_13_130818chat_eval_run to Status.Preparing...\n",
      "2024-04-13 13:10:42 +0000     109 promptflow-runtime INFO     Downloading snapshot to /mnt/host/service/app/34657/requests/2024_04_13_130818chat_eval_run\n",
      "2024-04-13 13:10:42 +0000     109 promptflow-runtime INFO     Get snapshot sas url for 92e6fe71-fb6b-4f9a-a836-4219e1cd7ced.\n",
      "2024-04-13 13:10:42 +0000     109 promptflow-runtime INFO     Snapshot 92e6fe71-fb6b-4f9a-a836-4219e1cd7ced contains 23 files.\n",
      "2024-04-13 13:10:42 +0000     109 promptflow-runtime INFO     Download snapshot 92e6fe71-fb6b-4f9a-a836-4219e1cd7ced completed.\n",
      "2024-04-13 13:10:42 +0000     109 promptflow-runtime INFO     Successfully download snapshot to /mnt/host/service/app/34657/requests/2024_04_13_130818chat_eval_run\n",
      "2024-04-13 13:10:42 +0000     109 promptflow-runtime INFO     About to execute a python flow.\n",
      "2024-04-13 13:10:42 +0000     109 promptflow-runtime INFO     Use spawn method to start child process.\n",
      "2024-04-13 13:10:43 +0000     109 promptflow-runtime INFO     Starting to check process 181 status for run 2024_04_13_130818chat_eval_run\n",
      "2024-04-13 13:10:43 +0000     109 promptflow-runtime INFO     Start checking run status for run 2024_04_13_130818chat_eval_run\n",
      "2024-04-13 13:10:47 +0000     181 promptflow-runtime INFO     [109--181] Start processing flowV2......\n",
      "2024-04-13 13:10:47 +0000     181 promptflow-runtime INFO     Runtime version: 20240403.v2. PromptFlow version: 1.8.0rc3\n",
      "2024-04-13 13:10:47 +0000     181 promptflow-runtime INFO     Setting mlflow tracking uri...\n",
      "2024-04-13 13:10:48 +0000     181 promptflow-runtime INFO     Validating 'AzureML Data Scientist' user authentication...\n",
      "2024-04-13 13:10:48 +0000     181 promptflow-runtime INFO     Successfully validated 'AzureML Data Scientist' user authentication.\n",
      "2024-04-13 13:10:48 +0000     181 promptflow-runtime INFO     Using AzureMLRunStorageV2\n",
      "2024-04-13 13:10:48 +0000     181 promptflow-runtime INFO     Setting mlflow tracking uri to 'azureml://swedencentral.api.azureml.ms/mlflow/v1.0/subscriptions/29cdfaaf-ac8c-4196-a2d8-5dff09de7abf/resourceGroups/amsosram-rg/providers/Microsoft.MachineLearningServices/workspaces/contoso-chat-sf-aiproj'\n",
      "2024-04-13 13:10:48 +0000     181 promptflow-runtime INFO     Initialized blob service client.\n",
      "2024-04-13 13:10:48 +0000     181 promptflow-runtime INFO     Blob service client has api version: 2023-11-03\n",
      "2024-04-13 13:10:48 +0000     181 promptflow-runtime INFO     Setting mlflow tracking uri to 'azureml://swedencentral.api.azureml.ms/mlflow/v1.0/subscriptions/29cdfaaf-ac8c-4196-a2d8-5dff09de7abf/resourceGroups/amsosram-rg/providers/Microsoft.MachineLearningServices/workspaces/contoso-chat-sf-aiproj'\n",
      "2024-04-13 13:10:48 +0000     181 promptflow-runtime INFO     Creating unregistered output Asset for Run 2024_04_13_130818chat_eval_run...\n",
      "2024-04-13 13:10:48 +0000     181 promptflow-runtime INFO     Created debug_info Asset: azureml://locations/swedencentral/workspaces/5d7d185f-55f6-4f23-a7ef-20b415fe6164/data/azureml_2024_04_13_130818chat_eval_run_output_data_debug_info/versions/1\n",
      "2024-04-13 13:10:48 +0000     181 promptflow-runtime INFO     Creating unregistered output Asset for Run 2024_04_13_130818chat_eval_run...\n",
      "2024-04-13 13:10:48 +0000     181 promptflow-runtime INFO     Created flow_outputs output Asset: azureml://locations/swedencentral/workspaces/5d7d185f-55f6-4f23-a7ef-20b415fe6164/data/azureml_2024_04_13_130818chat_eval_run_output_data_flow_outputs/versions/1\n",
      "2024-04-13 13:10:48 +0000     181 promptflow-runtime INFO     Patching 2024_04_13_130818chat_eval_run...\n",
      "2024-04-13 13:10:50 +0000     181 promptflow-runtime INFO     Resolve data from url finished in 1.3718151069997475 seconds\n",
      "2024-04-13 13:10:51 +0000     181 promptflow-runtime INFO     Resolve data from url finished in 1.3704609840001467 seconds\n",
      "2024-04-13 13:10:51 +0000     181 promptflow-runtime INFO     Starting the aml run '2024_04_13_130818chat_eval_run'...\n",
      "2024-04-13 13:10:52 +0000     181 execution.bulk     INFO     The timeout for the batch run is 36000 seconds.\n",
      "2024-04-13 13:10:52 +0000     181 execution.bulk     INFO     Set process count to 4 by taking the minimum value among the factors of {'default_worker_count': 4, 'row_count': 5}.\n",
      "2024-04-13 13:10:57 +0000     181 execution.bulk     INFO     Process name(ForkProcess-4:2:2)-Process id(337)-Line number(0) start execution.\n",
      "2024-04-13 13:10:57 +0000     181 execution.bulk     INFO     Process name(ForkProcess-4:2:4)-Process id(353)-Line number(3) start execution.\n",
      "2024-04-13 13:10:57 +0000     181 execution.bulk     INFO     Process name(ForkProcess-4:2:3)-Process id(343)-Line number(1) start execution.\n",
      "2024-04-13 13:10:57 +0000     181 execution.bulk     INFO     Process name(ForkProcess-4:2:1)-Process id(325)-Line number(2) start execution.\n",
      "2024-04-13 13:10:58 +0000     353 execution          WARNING  [relevance_score in line 3 (index starts from 0)] stderr> Exception occurs: RateLimitError: Error code: 429 - {'error': {'code': '429', 'message': 'Requests to the ChatCompletions_Create Operation under Azure OpenAI API version 2023-07-01-preview have exceeded call rate limit of your current AIServices S0 pricing tier. Please retry after 10 seconds. Please contact Azure support service if you would like to further increase the default rate limit.'}}\n",
      "2024-04-13 13:10:58 +0000     353 execution          WARNING  [relevance_score in line 3 (index starts from 0)] stderr> RateLimitError #0, Retry-After=10, Back off 10.0 seconds for retry.\n",
      "2024-04-13 13:10:58 +0000     337 execution          WARNING  [relevance_score in line 0 (index starts from 0)] stderr> Exception occurs: RateLimitError: Error code: 429 - {'error': {'code': '429', 'message': 'Requests to the ChatCompletions_Create Operation under Azure OpenAI API version 2023-07-01-preview have exceeded call rate limit of your current AIServices S0 pricing tier. Please retry after 10 seconds. Please contact Azure support service if you would like to further increase the default rate limit.'}}\n",
      "2024-04-13 13:10:58 +0000     337 execution          WARNING  [relevance_score in line 0 (index starts from 0)] stderr> RateLimitError #0, Retry-After=10, Back off 10.0 seconds for retry.\n",
      "2024-04-13 13:10:58 +0000     325 execution          WARNING  [groundedness_score in line 2 (index starts from 0)] stderr> Exception occurs: RateLimitError: Error code: 429 - {'error': {'code': '429', 'message': 'Requests to the ChatCompletions_Create Operation under Azure OpenAI API version 2023-07-01-preview have exceeded call rate limit of your current AIServices S0 pricing tier. Please retry after 10 seconds. Please contact Azure support service if you would like to further increase the default rate limit.'}}\n",
      "2024-04-13 13:10:58 +0000     325 execution          WARNING  [groundedness_score in line 2 (index starts from 0)] stderr> RateLimitError #0, Retry-After=10, Back off 10.0 seconds for retry.\n",
      "2024-04-13 13:10:58 +0000     325 execution          WARNING  [relevance_score in line 2 (index starts from 0)] stderr> Exception occurs: RateLimitError: Error code: 429 - {'error': {'code': '429', 'message': 'Requests to the ChatCompletions_Create Operation under Azure OpenAI API version 2023-07-01-preview have exceeded call rate limit of your current AIServices S0 pricing tier. Please retry after 10 seconds. Please contact Azure support service if you would like to further increase the default rate limit.'}}\n",
      "2024-04-13 13:10:58 +0000     325 execution          WARNING  [relevance_score in line 2 (index starts from 0)] stderr> RateLimitError #0, Retry-After=10, Back off 10.0 seconds for retry.\n",
      "2024-04-13 13:10:59 +0000     343 execution          WARNING  [relevance_score in line 1 (index starts from 0)] stderr> Exception occurs: RateLimitError: Error code: 429 - {'error': {'code': '429', 'message': 'Requests to the ChatCompletions_Create Operation under Azure OpenAI API version 2023-07-01-preview have exceeded call rate limit of your current AIServices S0 pricing tier. Please retry after 9 seconds. Please contact Azure support service if you would like to further increase the default rate limit.'}}\n",
      "2024-04-13 13:10:59 +0000     343 execution          WARNING  [relevance_score in line 1 (index starts from 0)] stderr> RateLimitError #0, Retry-After=9, Back off 9.0 seconds for retry.\n",
      "2024-04-13 13:11:08 +0000     181 execution.bulk     INFO     Process name(ForkProcess-4:2:3)-Process id(343)-Line number(1) completed.\n",
      "2024-04-13 13:11:08 +0000     181 execution.bulk     INFO     Process name(ForkProcess-4:2:3)-Process id(343)-Line number(4) start execution.\n",
      "2024-04-13 13:11:09 +0000     181 execution.bulk     INFO     Process name(ForkProcess-4:2:4)-Process id(353)-Line number(3) completed.\n",
      "2024-04-13 13:11:09 +0000     181 execution.bulk     INFO     Finished 2 / 5 lines.\n",
      "2024-04-13 13:11:09 +0000     181 execution.bulk     INFO     Process name(ForkProcess-4:2:2)-Process id(337)-Line number(0) completed.\n",
      "2024-04-13 13:11:09 +0000     181 execution.bulk     INFO     Average execution time for completed lines: 8.51 seconds. Estimated time for incomplete lines: 25.53 seconds.\n",
      "2024-04-13 13:11:09 +0000     181 execution.bulk     INFO     Process name(ForkProcess-4:2:1)-Process id(325)-Line number(2) completed.\n",
      "2024-04-13 13:11:10 +0000     181 execution.bulk     INFO     Finished 4 / 5 lines.\n",
      "2024-04-13 13:11:10 +0000     181 execution.bulk     INFO     Process name(ForkProcess-4:2:3)-Process id(343)-Line number(4) completed.\n",
      "2024-04-13 13:11:10 +0000     181 execution.bulk     INFO     Average execution time for completed lines: 4.51 seconds. Estimated time for incomplete lines: 4.51 seconds.\n",
      "2024-04-13 13:11:10 +0000     181 execution.bulk     INFO     The thread monitoring the process [353-ForkProcess-4:2:4] will be terminated.\n",
      "2024-04-13 13:11:10 +0000     181 execution.bulk     INFO     The thread monitoring the process [325-ForkProcess-4:2:1] will be terminated.\n",
      "2024-04-13 13:11:10 +0000     181 execution.bulk     INFO     The thread monitoring the process [337-ForkProcess-4:2:2] will be terminated.\n",
      "2024-04-13 13:11:10 +0000     181 execution.bulk     INFO     The thread monitoring the process [343-ForkProcess-4:2:3] will be terminated.\n",
      "2024-04-13 13:11:10 +0000     353 execution.bulk     INFO     The process [353] has received a terminate signal.\n",
      "2024-04-13 13:11:10 +0000     325 execution.bulk     INFO     The process [325] has received a terminate signal.\n",
      "2024-04-13 13:11:10 +0000     353 execution.bulk     WARNING  Error occurred while shutting down tracer provider: 'ProxyTracerProvider' object has no attribute 'shutdown'\n",
      "2024-04-13 13:11:10 +0000     325 execution.bulk     WARNING  Error occurred while shutting down tracer provider: 'ProxyTracerProvider' object has no attribute 'shutdown'\n",
      "2024-04-13 13:11:10 +0000     337 execution.bulk     INFO     The process [337] has received a terminate signal.\n",
      "2024-04-13 13:11:10 +0000     343 execution.bulk     INFO     The process [343] has received a terminate signal.\n",
      "2024-04-13 13:11:10 +0000     337 execution.bulk     WARNING  Error occurred while shutting down tracer provider: 'ProxyTracerProvider' object has no attribute 'shutdown'\n",
      "2024-04-13 13:11:10 +0000     343 execution.bulk     WARNING  Error occurred while shutting down tracer provider: 'ProxyTracerProvider' object has no attribute 'shutdown'\n",
      "2024-04-13 13:11:11 +0000     181 execution.bulk     INFO     Executing aggregation nodes...\n",
      "2024-04-13 13:11:11 +0000     181 execution.bulk     INFO     Finish executing aggregation nodes.\n",
      "2024-04-13 13:11:11 +0000     181 promptflow-runtime INFO     Post processing batch result...\n",
      "2024-04-13 13:11:16 +0000     181 execution.bulk     INFO     Upload status summary metrics for run 2024_04_13_130818chat_eval_run finished in 4.51955891300031 seconds\n",
      "2024-04-13 13:11:18 +0000     181 execution.bulk     INFO     Upload metrics for run 2024_04_13_130818chat_eval_run finished in 2.3553015190000224 seconds\n",
      "2024-04-13 13:11:18 +0000     181 promptflow-runtime INFO     Successfully write run properties {\"azureml.promptflow.total_tokens\": 21071, \"_azureml.evaluate_artifacts\": \"[{\\\"path\\\": \\\"instance_results.jsonl\\\", \\\"type\\\": \\\"table\\\"}]\"} with run id '2024_04_13_130818chat_eval_run'\n",
      "2024-04-13 13:11:18 +0000     181 execution.bulk     INFO     Upload RH properties for run 2024_04_13_130818chat_eval_run finished in 0.07122713199987629 seconds\n",
      "2024-04-13 13:11:18 +0000     181 promptflow-runtime INFO     Creating Artifact for Run 2024_04_13_130818chat_eval_run...\n",
      "2024-04-13 13:11:18 +0000     181 promptflow-runtime INFO     Created instance_results.jsonl Artifact.\n",
      "2024-04-13 13:11:18 +0000     181 promptflow-runtime INFO     Ending the aml run '2024_04_13_130818chat_eval_run' with status 'Completed'...\n",
      "======= Run Summary =======\n",
      "Run name: \"2024_04_13_130818chat_eval_run\"\n",
      "Run status: \"Completed\"\n",
      "Start time: \"2024-04-13 13:10:52.093682+00:00\"\n",
      "Duration: \"0:00:26.808367\"\n",
      "Run url: \"https://ai.azure.com/projectflows/bulkrun/run/2024_04_13_130818chat_eval_run/details?wsid=/subscriptions/29cdfaaf-ac8c-4196-a2d8-5dff09de7abf/resourcegroups/amsosram-rg/providers/Microsoft.MachineLearningServices/workspaces/contoso-chat-sf-aiproj\""
     ]
    },
    {
     "data": {
      "text/plain": [
       "<promptflow._sdk.entities._run.Run at 0x7f010b27f9d0>"
      ]
     },
     "execution_count": 58,
     "metadata": {},
     "output_type": "execute_result"
    }
   ],
   "source": [
    "pf_azure_client.stream(eval_run_variant)"
   ]
  },
  {
   "cell_type": "code",
   "execution_count": 59,
   "metadata": {},
   "outputs": [
    {
     "data": {
      "text/html": [
       "<div>\n",
       "<style scoped>\n",
       "    .dataframe tbody tr th:only-of-type {\n",
       "        vertical-align: middle;\n",
       "    }\n",
       "\n",
       "    .dataframe tbody tr th {\n",
       "        vertical-align: top;\n",
       "    }\n",
       "\n",
       "    .dataframe thead th {\n",
       "        text-align: right;\n",
       "    }\n",
       "</style>\n",
       "<table border=\"1\" class=\"dataframe\">\n",
       "  <thead>\n",
       "    <tr style=\"text-align: right;\">\n",
       "      <th></th>\n",
       "      <th>inputs.customerId</th>\n",
       "      <th>inputs.question</th>\n",
       "      <th>inputs.context</th>\n",
       "      <th>inputs.answer</th>\n",
       "      <th>inputs.line_number</th>\n",
       "      <th>inputs.chat_history</th>\n",
       "      <th>outputs.gpt_coherence</th>\n",
       "      <th>outputs.gpt_fluency</th>\n",
       "      <th>outputs.gpt_groundedness</th>\n",
       "      <th>outputs.gpt_relevance</th>\n",
       "    </tr>\n",
       "    <tr>\n",
       "      <th>outputs.line_number</th>\n",
       "      <th></th>\n",
       "      <th></th>\n",
       "      <th></th>\n",
       "      <th></th>\n",
       "      <th></th>\n",
       "      <th></th>\n",
       "      <th></th>\n",
       "      <th></th>\n",
       "      <th></th>\n",
       "      <th></th>\n",
       "    </tr>\n",
       "  </thead>\n",
       "  <tbody>\n",
       "    <tr>\n",
       "      <th>0</th>\n",
       "      <td>4</td>\n",
       "      <td>tell me about your hiking jackets</td>\n",
       "      <td>[{'id': '17', 'title': 'RainGuard Hiking Jacke...</td>\n",
       "      <td>Hey Sarah Lee! 😄 Let me tell you about our awe...</td>\n",
       "      <td>0</td>\n",
       "      <td>[]</td>\n",
       "      <td>5.0</td>\n",
       "      <td>5.0</td>\n",
       "      <td>5.0</td>\n",
       "      <td>5.0</td>\n",
       "    </tr>\n",
       "    <tr>\n",
       "      <th>1</th>\n",
       "      <td>1</td>\n",
       "      <td>Do you have any climbing gear?</td>\n",
       "      <td>[{'id': '9', 'title': 'SummitClimber Backpack'...</td>\n",
       "      <td>Hey John Smith! 👋 Absolutely, we have some awe...</td>\n",
       "      <td>1</td>\n",
       "      <td>[]</td>\n",
       "      <td>5.0</td>\n",
       "      <td>5.0</td>\n",
       "      <td>5.0</td>\n",
       "      <td>4.0</td>\n",
       "    </tr>\n",
       "    <tr>\n",
       "      <th>2</th>\n",
       "      <td>3</td>\n",
       "      <td>Can you tell me about your selection of tents?</td>\n",
       "      <td>[{'id': '15', 'title': 'SkyView 2-Person Tent'...</td>\n",
       "      <td>Hey Michael! 🌲🏕️ Let me tell you about our awe...</td>\n",
       "      <td>2</td>\n",
       "      <td>[]</td>\n",
       "      <td>5.0</td>\n",
       "      <td>5.0</td>\n",
       "      <td>5.0</td>\n",
       "      <td>5.0</td>\n",
       "    </tr>\n",
       "    <tr>\n",
       "      <th>3</th>\n",
       "      <td>6</td>\n",
       "      <td>Do you have any hiking boots?</td>\n",
       "      <td>[{'id': '4', 'title': 'TrekReady Hiking Boots'...</td>\n",
       "      <td>Hey Emily! 👋 Absolutely, we have some awesome ...</td>\n",
       "      <td>3</td>\n",
       "      <td>[]</td>\n",
       "      <td>5.0</td>\n",
       "      <td>5.0</td>\n",
       "      <td>5.0</td>\n",
       "      <td>5.0</td>\n",
       "    </tr>\n",
       "    <tr>\n",
       "      <th>4</th>\n",
       "      <td>2</td>\n",
       "      <td>What gear do you recommend for hiking?</td>\n",
       "      <td>[{'id': '10', 'title': 'TrailBlaze Hiking Pant...</td>\n",
       "      <td>Hey Jane! 🌲 For hiking gear, I recommend the T...</td>\n",
       "      <td>4</td>\n",
       "      <td>[]</td>\n",
       "      <td>4.0</td>\n",
       "      <td>4.0</td>\n",
       "      <td>5.0</td>\n",
       "      <td>5.0</td>\n",
       "    </tr>\n",
       "  </tbody>\n",
       "</table>\n",
       "</div>"
      ],
      "text/plain": [
       "                    inputs.customerId  \\\n",
       "outputs.line_number                     \n",
       "0                                   4   \n",
       "1                                   1   \n",
       "2                                   3   \n",
       "3                                   6   \n",
       "4                                   2   \n",
       "\n",
       "                                                    inputs.question  \\\n",
       "outputs.line_number                                                   \n",
       "0                                 tell me about your hiking jackets   \n",
       "1                                    Do you have any climbing gear?   \n",
       "2                    Can you tell me about your selection of tents?   \n",
       "3                                     Do you have any hiking boots?   \n",
       "4                            What gear do you recommend for hiking?   \n",
       "\n",
       "                                                        inputs.context  \\\n",
       "outputs.line_number                                                      \n",
       "0                    [{'id': '17', 'title': 'RainGuard Hiking Jacke...   \n",
       "1                    [{'id': '9', 'title': 'SummitClimber Backpack'...   \n",
       "2                    [{'id': '15', 'title': 'SkyView 2-Person Tent'...   \n",
       "3                    [{'id': '4', 'title': 'TrekReady Hiking Boots'...   \n",
       "4                    [{'id': '10', 'title': 'TrailBlaze Hiking Pant...   \n",
       "\n",
       "                                                         inputs.answer  \\\n",
       "outputs.line_number                                                      \n",
       "0                    Hey Sarah Lee! 😄 Let me tell you about our awe...   \n",
       "1                    Hey John Smith! 👋 Absolutely, we have some awe...   \n",
       "2                    Hey Michael! 🌲🏕️ Let me tell you about our awe...   \n",
       "3                    Hey Emily! 👋 Absolutely, we have some awesome ...   \n",
       "4                    Hey Jane! 🌲 For hiking gear, I recommend the T...   \n",
       "\n",
       "                     inputs.line_number inputs.chat_history  \\\n",
       "outputs.line_number                                           \n",
       "0                                     0                  []   \n",
       "1                                     1                  []   \n",
       "2                                     2                  []   \n",
       "3                                     3                  []   \n",
       "4                                     4                  []   \n",
       "\n",
       "                     outputs.gpt_coherence  outputs.gpt_fluency  \\\n",
       "outputs.line_number                                               \n",
       "0                                      5.0                  5.0   \n",
       "1                                      5.0                  5.0   \n",
       "2                                      5.0                  5.0   \n",
       "3                                      5.0                  5.0   \n",
       "4                                      4.0                  4.0   \n",
       "\n",
       "                     outputs.gpt_groundedness  outputs.gpt_relevance  \n",
       "outputs.line_number                                                   \n",
       "0                                         5.0                    5.0  \n",
       "1                                         5.0                    4.0  \n",
       "2                                         5.0                    5.0  \n",
       "3                                         5.0                    5.0  \n",
       "4                                         5.0                    5.0  "
      ]
     },
     "execution_count": 59,
     "metadata": {},
     "output_type": "execute_result"
    }
   ],
   "source": [
    "details = pf_azure_client.get_details(eval_run_variant)\n",
    "details.head(10)"
   ]
  },
  {
   "cell_type": "code",
   "execution_count": 60,
   "metadata": {},
   "outputs": [
    {
     "name": "stdout",
     "output_type": "stream",
     "text": [
      "{\n",
      "    \"gpt_coherence\": 4.8,\n",
      "    \"gpt_coherence_pass_rate(%)\": 100.0,\n",
      "    \"gpt_fluency\": 4.8,\n",
      "    \"gpt_fluency_pass_rate(%)\": 100.0,\n",
      "    \"gpt_groundedness\": 5.0,\n",
      "    \"gpt_groundedness_pass_rate(%)\": 100.0,\n",
      "    \"gpt_relevance\": 4.8,\n",
      "    \"gpt_relevance_pass_rate(%)\": 100.0\n",
      "}\n"
     ]
    }
   ],
   "source": [
    "\n",
    "metrics = pf_azure_client.get_metrics(eval_run_variant)\n",
    "print(json.dumps(metrics, indent=4))"
   ]
  },
  {
   "cell_type": "code",
   "execution_count": 61,
   "metadata": {},
   "outputs": [
    {
     "name": "stdout",
     "output_type": "stream",
     "text": [
      "Web View: https://ml.azure.com/prompts/flow/bulkrun/runs/outputs?wsid=/subscriptions/29cdfaaf-ac8c-4196-a2d8-5dff09de7abf/resourceGroups/amsosram-rg/providers/Microsoft.MachineLearningServices/workspaces/contoso-chat-sf-aiproj&runId=2024_04_13_130818chat_base_run,2024_04_13_130818chat_eval_run\n"
     ]
    }
   ],
   "source": [
    "pf_azure_client.visualize([base_run, eval_run_variant])"
   ]
  }
 ],
 "metadata": {
  "kernelspec": {
   "display_name": ".venv",
   "language": "python",
   "name": "python3"
  },
  "language_info": {
   "codemirror_mode": {
    "name": "ipython",
    "version": 3
   },
   "file_extension": ".py",
   "mimetype": "text/x-python",
   "name": "python",
   "nbconvert_exporter": "python",
   "pygments_lexer": "ipython3",
   "version": "3.11.8"
  }
 },
 "nbformat": 4,
 "nbformat_minor": 2
}
