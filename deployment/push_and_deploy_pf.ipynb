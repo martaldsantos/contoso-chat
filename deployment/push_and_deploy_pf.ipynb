{
 "cells": [
  {
   "cell_type": "markdown",
   "metadata": {},
   "source": [
    "# 1. Push the prompt flow to AI Studio"
   ]
  },
  {
   "cell_type": "code",
   "execution_count": null,
   "metadata": {},
   "outputs": [],
   "source": [
    "# import required libraries\n",
    "import os\n",
    "from azure.ai.ml import MLClient\n",
    "from azure.ai.ml.entities import WorkspaceConnection\n",
    "# Import required libraries\n",
    "from azure.identity import DefaultAzureCredential, InteractiveBrowserCredential\n",
    "\n",
    "# Import required libraries\n",
    "from azure.identity import DefaultAzureCredential, InteractiveBrowserCredential\n",
    "\n",
    "try:\n",
    "    credential = DefaultAzureCredential()\n",
    "    # Check if given credential can get token successfully.\n",
    "    credential.get_token(\"https://management.azure.com/.default\")\n",
    "except Exception as ex:\n",
    "    # Fall back to InteractiveBrowserCredential in case DefaultAzureCredential not work\n",
    "    credential = InteractiveBrowserCredential()"
   ]
  },
  {
   "cell_type": "code",
   "execution_count": 2,
   "metadata": {},
   "outputs": [
    {
     "name": "stderr",
     "output_type": "stream",
     "text": [
      "Found the config file in: ../config.json\n"
     ]
    }
   ],
   "source": [
    "config_path = \"../config.json\"\n",
    "from promptflow.azure import PFClient\n",
    "pf_azure_client = PFClient.from_config(credential=credential, path=config_path)"
   ]
  },
  {
   "cell_type": "code",
   "execution_count": 3,
   "metadata": {},
   "outputs": [],
   "source": [
    "# Create unique name for pf name with date time\n",
    "import datetime\n",
    "now = datetime.datetime.now()\n",
    "pf_name = \"contoso-chat-{}\".format(now.strftime(\"%Y-%m-%d-%H-%M-%S\"))\n"
   ]
  },
  {
   "cell_type": "code",
   "execution_count": 4,
   "metadata": {},
   "outputs": [],
   "source": [
    "# Runtime no longer needed (not in flow schema)\n",
    "# load flow\n",
    "flow = \"../contoso-chat/\""
   ]
  },
  {
   "cell_type": "code",
   "execution_count": 5,
   "metadata": {},
   "outputs": [
    {
     "name": "stdout",
     "output_type": "stream",
     "text": [
      "Flow created successfully:\n",
      "{\n",
      "    \"name\": \"cdda00f4-7f32-4924-bc45-8dcb973880b0\",\n",
      "    \"type\": \"chat\",\n",
      "    \"path\": \"Users/martasantos/promptflow/contoso-chat-04-13-2024-12-36-05/flow.dag.yaml\",\n",
      "    \"code\": \"azureml://locations/swedencentral/workspaces/5d7d185f-55f6-4f23-a7ef-20b415fe6164/flows/cdda00f4-7f32-4924-bc45-8dcb973880b0\",\n",
      "    \"display_name\": \"contoso-chat-2024-04-13-12-36-02\",\n",
      "    \"owner\": {\n",
      "        \"user_object_id\": \"ccb5dc44-0871-40af-84cd-2c39c3864a9b\",\n",
      "        \"user_tenant_id\": \"16b3c013-d300-468d-ac64-7eda0820b6d3\",\n",
      "        \"user_name\": \"Marta Santos\"\n",
      "    },\n",
      "    \"is_archived\": false,\n",
      "    \"created_date\": \"2024-04-13 12:36:11.048707+00:00\",\n",
      "    \"flow_portal_url\": \"https://ai.azure.com/projectflows/cdda00f4-7f32-4924-bc45-8dcb973880b0/5d7d185f-55f6-4f23-a7ef-20b415fe6164/details/Flow?wsid=/subscriptions/29cdfaaf-ac8c-4196-a2d8-5dff09de7abf/resourcegroups/amsosram-rg/providers/Microsoft.MachineLearningServices/workspaces/contoso-chat-sf-aiproj\"\n",
      "}\n",
      "Creating prompt flow <promptflow.azure._entities._flow.Flow object at 0x7fc1d7dc6f90>\n"
     ]
    }
   ],
   "source": [
    "contoso_chat_flow = pf_azure_client.flows.create_or_update(\n",
    "    flow=flow,\n",
    "    display_name=pf_name,\n",
    "    type=\"chat\")\n",
    "print(\"Creating prompt flow\", contoso_chat_flow)"
   ]
  },
  {
   "cell_type": "markdown",
   "metadata": {},
   "source": [
    "# 2. Navigate to AI Studio to test and deploy the prompt flow"
   ]
  }
 ],
 "metadata": {
  "kernelspec": {
   "display_name": "Python 3",
   "language": "python",
   "name": "python3"
  },
  "language_info": {
   "codemirror_mode": {
    "name": "ipython",
    "version": 3
   },
   "file_extension": ".py",
   "mimetype": "text/x-python",
   "name": "python",
   "nbconvert_exporter": "python",
   "pygments_lexer": "ipython3",
   "version": "3.11.8"
  }
 },
 "nbformat": 4,
 "nbformat_minor": 2
}
